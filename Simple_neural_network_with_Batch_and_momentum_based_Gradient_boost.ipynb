{
  "nbformat": 4,
  "nbformat_minor": 0,
  "metadata": {
    "colab": {
      "provenance": [],
      "authorship_tag": "ABX9TyOmuM8uDv0/1Rq8APO4Ze+j",
      "include_colab_link": true
    },
    "kernelspec": {
      "name": "python3",
      "display_name": "Python 3"
    }
  },
  "cells": [
    {
      "cell_type": "markdown",
      "metadata": {
        "id": "view-in-github",
        "colab_type": "text"
      },
      "source": [
        "<a href=\"https://colab.research.google.com/github/Vijayarengan27/Neural-Network-from-scratch/blob/main/Simple_neural_network_with_Batch_and_momentum_based_Gradient_boost.ipynb\" target=\"_parent\"><img src=\"https://colab.research.google.com/assets/colab-badge.svg\" alt=\"Open In Colab\"/></a>"
      ]
    },
    {
      "cell_type": "code",
      "metadata": {
        "id": "5o-vz4HnLnLe"
      },
      "source": [
        "import numpy as np\n",
        "import pandas as pd\n",
        "import matplotlib.pyplot as plt"
      ],
      "execution_count": 38,
      "outputs": []
    },
    {
      "cell_type": "code",
      "source": [
        "def initialize_parameters():\n",
        "  np.random.seed(999)\n",
        "  W1 = np.random.randn(10,784) * (1/np.sqrt(784))\n",
        "  b1 = np.random.randn(10,1) * (1/np.sqrt(10))\n",
        "  W2 = np.random.randn(10,10) * (1/np.sqrt(10))\n",
        "  b2 = np.random.randn(10,1) * (1/np.sqrt(10))\n",
        "  return W1, b1, W2, b2\n",
        "\n",
        "def ReLu(Z):\n",
        "  return np.maximum(Z,0)\n",
        "\n",
        "def SoftMax(Z):\n",
        "  a = Z - Z.max(axis = 0)\n",
        "  return np.exp(a)/np.sum(np.exp(a),axis = 0)\n",
        "\n",
        "def Onehot(y):\n",
        "  one_hot_y = np.zeros((y.max()+1,y.shape[0]))\n",
        "  one_hot_y[y,np.arange(y.shape[0])] = 1\n",
        "  return one_hot_y\n",
        "\n",
        "def deriv_ReLu(Z):\n",
        "  return Z > 0"
      ],
      "metadata": {
        "id": "P8Og85MQQx6q"
      },
      "execution_count": 56,
      "outputs": []
    },
    {
      "cell_type": "code",
      "source": [
        "def forward_propogation(X,W1,b1,W2,b2):  # need to have X without transposed\n",
        "  A0 = X.T\n",
        "  Z1 = W1.dot(A0) + b1\n",
        "  A1 = ReLu(Z1)\n",
        "  Z2 = W2.dot(A1) + b2\n",
        "  A2 = SoftMax(Z2)\n",
        "  return Z1, A1, Z2, A2\n",
        "\n",
        "def back_propogation(Z1, A1, Z2, A2, W2, X, y):\n",
        "  m = y.shape[0]\n",
        "  one_hot_y = Onehot(y)\n",
        "\n",
        "  dZ2 = A2 - one_hot_y\n",
        "  dW2 = 1/m * dZ2.dot(A1.T)\n",
        "  db2 = 1/m * np.sum(dZ2,axis = 1,keepdims = True)\n",
        "  dZ1 = W2.T.dot(dZ2) * deriv_ReLu(Z1)\n",
        "  dW1 = 1/m * dZ1.dot(X)\n",
        "  db1 = 1/m * np.sum(dZ1,axis = 1,keepdims = True)\n",
        "\n",
        "  return dW1, db1, dW2, db2\n",
        "\n",
        "def update_parameters(W1, b1, W2, b2, dW1, db1, dW2, db2, alpha):\n",
        "  W1 = W1 - alpha * dW1\n",
        "  b1 = b1 - alpha * db1\n",
        "  W2 = W2 - alpha * dW2\n",
        "  b2 = b2 - alpha * db2\n",
        "  return W1, b1, W2, b2"
      ],
      "metadata": {
        "id": "0luSwwVPQOyf"
      },
      "execution_count": 40,
      "outputs": []
    },
    {
      "cell_type": "code",
      "source": [
        "def get_prediction(A2):\n",
        "  return np.argmax(A2,0)  # doubt\n",
        "\n",
        "def get_accuracy(predictions,y):\n",
        "  return np.sum(predictions == y)/y.shape[0]\n",
        "\n",
        "def plot_accuracy(accuracies,valid_accuracies):\n",
        "  plt.plot(accuracies,label = 'Training accuracy',color = 'red')\n",
        "  plt.plot(valid_accuracies,label = 'Validation accuracy',color = 'blue')\n",
        "  plt.xlabel('Number of Iterations (in tens)')\n",
        "  plt.ylabel('Accuracy')\n",
        "  plt.legend()\n",
        "  plt.show()\n",
        "\n",
        "def show_prediction(X,y,W1,b1,W2,b2):\n",
        "  A2 = forward_propogation(X, W1, b1, W2, b2)[3]\n",
        "  y_pred = get_prediction(A2)\n",
        "  print(f'The actual label: {y}')\n",
        "  print(f'The predicted label: {y_pred}')\n",
        "  plt.imshow(X.reshape(28,28),cmap = 'gray')\n",
        "  plt.show()\n",
        "\n",
        "def gradient_boost(X, y, X_test, y_test, iterations, alpha):\n",
        "  accuracies = []\n",
        "  valid_accuracies = []\n",
        "  W1, b1, W2, b2 = initialize_parameters()\n",
        "  for i in range(iterations):\n",
        "    Z1, A1, Z2, A2 = forward_propogation(X,W1,b1,W2,b2)\n",
        "    dW1, db1, dW2, db2 = back_propogation(Z1, A1, Z2, A2, W2, X, y)\n",
        "    W1, b1, W2, b2 = update_parameters(W1, b1, W2, b2, dW1, db1, dW2, db2, alpha)\n",
        "    if (i+1)%10 == 0:\n",
        "      predictions = get_prediction(A2)\n",
        "      print(f'The number of iterations: {i+1} The training accuracy: {get_accuracy(predictions,y)}')\n",
        "      accuracies.append(get_accuracy(predictions,y))\n",
        "      valid_predictions = get_prediction(forward_propogation(X_test, W1, b1, W2, b2)[3])\n",
        "      valid_accuracies.append(get_accuracy(valid_predictions,y_test))\n",
        "  plot_accuracy(accuracies,valid_accuracies)\n",
        "  return W1, b1, W2, b2\n"
      ],
      "metadata": {
        "id": "vea3e2TDQOeS"
      },
      "execution_count": 50,
      "outputs": []
    },
    {
      "cell_type": "code",
      "source": [
        "train = pd.read_csv('/content/train.csv')\n",
        "train.shape"
      ],
      "metadata": {
        "colab": {
          "base_uri": "https://localhost:8080/"
        },
        "id": "-z7JH0hQXZdt",
        "outputId": "7ac6f809-185b-43c0-ec95-6715fa496e1e"
      },
      "execution_count": 42,
      "outputs": [
        {
          "output_type": "execute_result",
          "data": {
            "text/plain": [
              "(42000, 785)"
            ]
          },
          "metadata": {},
          "execution_count": 42
        }
      ]
    },
    {
      "cell_type": "code",
      "source": [
        "train.head()"
      ],
      "metadata": {
        "colab": {
          "base_uri": "https://localhost:8080/",
          "height": 255
        },
        "id": "WO1bWl0DaXS1",
        "outputId": "625394c7-7219-4d3f-e672-8557316db361"
      },
      "execution_count": 43,
      "outputs": [
        {
          "output_type": "execute_result",
          "data": {
            "text/plain": [
              "   label  pixel0  pixel1  pixel2  pixel3  pixel4  pixel5  pixel6  pixel7  \\\n",
              "0      1       0       0       0       0       0       0       0       0   \n",
              "1      0       0       0       0       0       0       0       0       0   \n",
              "2      1       0       0       0       0       0       0       0       0   \n",
              "3      4       0       0       0       0       0       0       0       0   \n",
              "4      0       0       0       0       0       0       0       0       0   \n",
              "\n",
              "   pixel8  ...  pixel774  pixel775  pixel776  pixel777  pixel778  pixel779  \\\n",
              "0       0  ...         0         0         0         0         0         0   \n",
              "1       0  ...         0         0         0         0         0         0   \n",
              "2       0  ...         0         0         0         0         0         0   \n",
              "3       0  ...         0         0         0         0         0         0   \n",
              "4       0  ...         0         0         0         0         0         0   \n",
              "\n",
              "   pixel780  pixel781  pixel782  pixel783  \n",
              "0         0         0         0         0  \n",
              "1         0         0         0         0  \n",
              "2         0         0         0         0  \n",
              "3         0         0         0         0  \n",
              "4         0         0         0         0  \n",
              "\n",
              "[5 rows x 785 columns]"
            ],
            "text/html": [
              "\n",
              "  <div id=\"df-f486496d-cbba-43f5-8028-3518eb07c4cc\" class=\"colab-df-container\">\n",
              "    <div>\n",
              "<style scoped>\n",
              "    .dataframe tbody tr th:only-of-type {\n",
              "        vertical-align: middle;\n",
              "    }\n",
              "\n",
              "    .dataframe tbody tr th {\n",
              "        vertical-align: top;\n",
              "    }\n",
              "\n",
              "    .dataframe thead th {\n",
              "        text-align: right;\n",
              "    }\n",
              "</style>\n",
              "<table border=\"1\" class=\"dataframe\">\n",
              "  <thead>\n",
              "    <tr style=\"text-align: right;\">\n",
              "      <th></th>\n",
              "      <th>label</th>\n",
              "      <th>pixel0</th>\n",
              "      <th>pixel1</th>\n",
              "      <th>pixel2</th>\n",
              "      <th>pixel3</th>\n",
              "      <th>pixel4</th>\n",
              "      <th>pixel5</th>\n",
              "      <th>pixel6</th>\n",
              "      <th>pixel7</th>\n",
              "      <th>pixel8</th>\n",
              "      <th>...</th>\n",
              "      <th>pixel774</th>\n",
              "      <th>pixel775</th>\n",
              "      <th>pixel776</th>\n",
              "      <th>pixel777</th>\n",
              "      <th>pixel778</th>\n",
              "      <th>pixel779</th>\n",
              "      <th>pixel780</th>\n",
              "      <th>pixel781</th>\n",
              "      <th>pixel782</th>\n",
              "      <th>pixel783</th>\n",
              "    </tr>\n",
              "  </thead>\n",
              "  <tbody>\n",
              "    <tr>\n",
              "      <th>0</th>\n",
              "      <td>1</td>\n",
              "      <td>0</td>\n",
              "      <td>0</td>\n",
              "      <td>0</td>\n",
              "      <td>0</td>\n",
              "      <td>0</td>\n",
              "      <td>0</td>\n",
              "      <td>0</td>\n",
              "      <td>0</td>\n",
              "      <td>0</td>\n",
              "      <td>...</td>\n",
              "      <td>0</td>\n",
              "      <td>0</td>\n",
              "      <td>0</td>\n",
              "      <td>0</td>\n",
              "      <td>0</td>\n",
              "      <td>0</td>\n",
              "      <td>0</td>\n",
              "      <td>0</td>\n",
              "      <td>0</td>\n",
              "      <td>0</td>\n",
              "    </tr>\n",
              "    <tr>\n",
              "      <th>1</th>\n",
              "      <td>0</td>\n",
              "      <td>0</td>\n",
              "      <td>0</td>\n",
              "      <td>0</td>\n",
              "      <td>0</td>\n",
              "      <td>0</td>\n",
              "      <td>0</td>\n",
              "      <td>0</td>\n",
              "      <td>0</td>\n",
              "      <td>0</td>\n",
              "      <td>...</td>\n",
              "      <td>0</td>\n",
              "      <td>0</td>\n",
              "      <td>0</td>\n",
              "      <td>0</td>\n",
              "      <td>0</td>\n",
              "      <td>0</td>\n",
              "      <td>0</td>\n",
              "      <td>0</td>\n",
              "      <td>0</td>\n",
              "      <td>0</td>\n",
              "    </tr>\n",
              "    <tr>\n",
              "      <th>2</th>\n",
              "      <td>1</td>\n",
              "      <td>0</td>\n",
              "      <td>0</td>\n",
              "      <td>0</td>\n",
              "      <td>0</td>\n",
              "      <td>0</td>\n",
              "      <td>0</td>\n",
              "      <td>0</td>\n",
              "      <td>0</td>\n",
              "      <td>0</td>\n",
              "      <td>...</td>\n",
              "      <td>0</td>\n",
              "      <td>0</td>\n",
              "      <td>0</td>\n",
              "      <td>0</td>\n",
              "      <td>0</td>\n",
              "      <td>0</td>\n",
              "      <td>0</td>\n",
              "      <td>0</td>\n",
              "      <td>0</td>\n",
              "      <td>0</td>\n",
              "    </tr>\n",
              "    <tr>\n",
              "      <th>3</th>\n",
              "      <td>4</td>\n",
              "      <td>0</td>\n",
              "      <td>0</td>\n",
              "      <td>0</td>\n",
              "      <td>0</td>\n",
              "      <td>0</td>\n",
              "      <td>0</td>\n",
              "      <td>0</td>\n",
              "      <td>0</td>\n",
              "      <td>0</td>\n",
              "      <td>...</td>\n",
              "      <td>0</td>\n",
              "      <td>0</td>\n",
              "      <td>0</td>\n",
              "      <td>0</td>\n",
              "      <td>0</td>\n",
              "      <td>0</td>\n",
              "      <td>0</td>\n",
              "      <td>0</td>\n",
              "      <td>0</td>\n",
              "      <td>0</td>\n",
              "    </tr>\n",
              "    <tr>\n",
              "      <th>4</th>\n",
              "      <td>0</td>\n",
              "      <td>0</td>\n",
              "      <td>0</td>\n",
              "      <td>0</td>\n",
              "      <td>0</td>\n",
              "      <td>0</td>\n",
              "      <td>0</td>\n",
              "      <td>0</td>\n",
              "      <td>0</td>\n",
              "      <td>0</td>\n",
              "      <td>...</td>\n",
              "      <td>0</td>\n",
              "      <td>0</td>\n",
              "      <td>0</td>\n",
              "      <td>0</td>\n",
              "      <td>0</td>\n",
              "      <td>0</td>\n",
              "      <td>0</td>\n",
              "      <td>0</td>\n",
              "      <td>0</td>\n",
              "      <td>0</td>\n",
              "    </tr>\n",
              "  </tbody>\n",
              "</table>\n",
              "<p>5 rows × 785 columns</p>\n",
              "</div>\n",
              "    <div class=\"colab-df-buttons\">\n",
              "\n",
              "  <div class=\"colab-df-container\">\n",
              "    <button class=\"colab-df-convert\" onclick=\"convertToInteractive('df-f486496d-cbba-43f5-8028-3518eb07c4cc')\"\n",
              "            title=\"Convert this dataframe to an interactive table.\"\n",
              "            style=\"display:none;\">\n",
              "\n",
              "  <svg xmlns=\"http://www.w3.org/2000/svg\" height=\"24px\" viewBox=\"0 -960 960 960\">\n",
              "    <path d=\"M120-120v-720h720v720H120Zm60-500h600v-160H180v160Zm220 220h160v-160H400v160Zm0 220h160v-160H400v160ZM180-400h160v-160H180v160Zm440 0h160v-160H620v160ZM180-180h160v-160H180v160Zm440 0h160v-160H620v160Z\"/>\n",
              "  </svg>\n",
              "    </button>\n",
              "\n",
              "  <style>\n",
              "    .colab-df-container {\n",
              "      display:flex;\n",
              "      gap: 12px;\n",
              "    }\n",
              "\n",
              "    .colab-df-convert {\n",
              "      background-color: #E8F0FE;\n",
              "      border: none;\n",
              "      border-radius: 50%;\n",
              "      cursor: pointer;\n",
              "      display: none;\n",
              "      fill: #1967D2;\n",
              "      height: 32px;\n",
              "      padding: 0 0 0 0;\n",
              "      width: 32px;\n",
              "    }\n",
              "\n",
              "    .colab-df-convert:hover {\n",
              "      background-color: #E2EBFA;\n",
              "      box-shadow: 0px 1px 2px rgba(60, 64, 67, 0.3), 0px 1px 3px 1px rgba(60, 64, 67, 0.15);\n",
              "      fill: #174EA6;\n",
              "    }\n",
              "\n",
              "    .colab-df-buttons div {\n",
              "      margin-bottom: 4px;\n",
              "    }\n",
              "\n",
              "    [theme=dark] .colab-df-convert {\n",
              "      background-color: #3B4455;\n",
              "      fill: #D2E3FC;\n",
              "    }\n",
              "\n",
              "    [theme=dark] .colab-df-convert:hover {\n",
              "      background-color: #434B5C;\n",
              "      box-shadow: 0px 1px 3px 1px rgba(0, 0, 0, 0.15);\n",
              "      filter: drop-shadow(0px 1px 2px rgba(0, 0, 0, 0.3));\n",
              "      fill: #FFFFFF;\n",
              "    }\n",
              "  </style>\n",
              "\n",
              "    <script>\n",
              "      const buttonEl =\n",
              "        document.querySelector('#df-f486496d-cbba-43f5-8028-3518eb07c4cc button.colab-df-convert');\n",
              "      buttonEl.style.display =\n",
              "        google.colab.kernel.accessAllowed ? 'block' : 'none';\n",
              "\n",
              "      async function convertToInteractive(key) {\n",
              "        const element = document.querySelector('#df-f486496d-cbba-43f5-8028-3518eb07c4cc');\n",
              "        const dataTable =\n",
              "          await google.colab.kernel.invokeFunction('convertToInteractive',\n",
              "                                                    [key], {});\n",
              "        if (!dataTable) return;\n",
              "\n",
              "        const docLinkHtml = 'Like what you see? Visit the ' +\n",
              "          '<a target=\"_blank\" href=https://colab.research.google.com/notebooks/data_table.ipynb>data table notebook</a>'\n",
              "          + ' to learn more about interactive tables.';\n",
              "        element.innerHTML = '';\n",
              "        dataTable['output_type'] = 'display_data';\n",
              "        await google.colab.output.renderOutput(dataTable, element);\n",
              "        const docLink = document.createElement('div');\n",
              "        docLink.innerHTML = docLinkHtml;\n",
              "        element.appendChild(docLink);\n",
              "      }\n",
              "    </script>\n",
              "  </div>\n",
              "\n",
              "\n",
              "<div id=\"df-ce11c89f-71a7-4b99-aaae-c1d3dbaf789a\">\n",
              "  <button class=\"colab-df-quickchart\" onclick=\"quickchart('df-ce11c89f-71a7-4b99-aaae-c1d3dbaf789a')\"\n",
              "            title=\"Suggest charts\"\n",
              "            style=\"display:none;\">\n",
              "\n",
              "<svg xmlns=\"http://www.w3.org/2000/svg\" height=\"24px\"viewBox=\"0 0 24 24\"\n",
              "     width=\"24px\">\n",
              "    <g>\n",
              "        <path d=\"M19 3H5c-1.1 0-2 .9-2 2v14c0 1.1.9 2 2 2h14c1.1 0 2-.9 2-2V5c0-1.1-.9-2-2-2zM9 17H7v-7h2v7zm4 0h-2V7h2v10zm4 0h-2v-4h2v4z\"/>\n",
              "    </g>\n",
              "</svg>\n",
              "  </button>\n",
              "\n",
              "<style>\n",
              "  .colab-df-quickchart {\n",
              "      --bg-color: #E8F0FE;\n",
              "      --fill-color: #1967D2;\n",
              "      --hover-bg-color: #E2EBFA;\n",
              "      --hover-fill-color: #174EA6;\n",
              "      --disabled-fill-color: #AAA;\n",
              "      --disabled-bg-color: #DDD;\n",
              "  }\n",
              "\n",
              "  [theme=dark] .colab-df-quickchart {\n",
              "      --bg-color: #3B4455;\n",
              "      --fill-color: #D2E3FC;\n",
              "      --hover-bg-color: #434B5C;\n",
              "      --hover-fill-color: #FFFFFF;\n",
              "      --disabled-bg-color: #3B4455;\n",
              "      --disabled-fill-color: #666;\n",
              "  }\n",
              "\n",
              "  .colab-df-quickchart {\n",
              "    background-color: var(--bg-color);\n",
              "    border: none;\n",
              "    border-radius: 50%;\n",
              "    cursor: pointer;\n",
              "    display: none;\n",
              "    fill: var(--fill-color);\n",
              "    height: 32px;\n",
              "    padding: 0;\n",
              "    width: 32px;\n",
              "  }\n",
              "\n",
              "  .colab-df-quickchart:hover {\n",
              "    background-color: var(--hover-bg-color);\n",
              "    box-shadow: 0 1px 2px rgba(60, 64, 67, 0.3), 0 1px 3px 1px rgba(60, 64, 67, 0.15);\n",
              "    fill: var(--button-hover-fill-color);\n",
              "  }\n",
              "\n",
              "  .colab-df-quickchart-complete:disabled,\n",
              "  .colab-df-quickchart-complete:disabled:hover {\n",
              "    background-color: var(--disabled-bg-color);\n",
              "    fill: var(--disabled-fill-color);\n",
              "    box-shadow: none;\n",
              "  }\n",
              "\n",
              "  .colab-df-spinner {\n",
              "    border: 2px solid var(--fill-color);\n",
              "    border-color: transparent;\n",
              "    border-bottom-color: var(--fill-color);\n",
              "    animation:\n",
              "      spin 1s steps(1) infinite;\n",
              "  }\n",
              "\n",
              "  @keyframes spin {\n",
              "    0% {\n",
              "      border-color: transparent;\n",
              "      border-bottom-color: var(--fill-color);\n",
              "      border-left-color: var(--fill-color);\n",
              "    }\n",
              "    20% {\n",
              "      border-color: transparent;\n",
              "      border-left-color: var(--fill-color);\n",
              "      border-top-color: var(--fill-color);\n",
              "    }\n",
              "    30% {\n",
              "      border-color: transparent;\n",
              "      border-left-color: var(--fill-color);\n",
              "      border-top-color: var(--fill-color);\n",
              "      border-right-color: var(--fill-color);\n",
              "    }\n",
              "    40% {\n",
              "      border-color: transparent;\n",
              "      border-right-color: var(--fill-color);\n",
              "      border-top-color: var(--fill-color);\n",
              "    }\n",
              "    60% {\n",
              "      border-color: transparent;\n",
              "      border-right-color: var(--fill-color);\n",
              "    }\n",
              "    80% {\n",
              "      border-color: transparent;\n",
              "      border-right-color: var(--fill-color);\n",
              "      border-bottom-color: var(--fill-color);\n",
              "    }\n",
              "    90% {\n",
              "      border-color: transparent;\n",
              "      border-bottom-color: var(--fill-color);\n",
              "    }\n",
              "  }\n",
              "</style>\n",
              "\n",
              "  <script>\n",
              "    async function quickchart(key) {\n",
              "      const quickchartButtonEl =\n",
              "        document.querySelector('#' + key + ' button');\n",
              "      quickchartButtonEl.disabled = true;  // To prevent multiple clicks.\n",
              "      quickchartButtonEl.classList.add('colab-df-spinner');\n",
              "      try {\n",
              "        const charts = await google.colab.kernel.invokeFunction(\n",
              "            'suggestCharts', [key], {});\n",
              "      } catch (error) {\n",
              "        console.error('Error during call to suggestCharts:', error);\n",
              "      }\n",
              "      quickchartButtonEl.classList.remove('colab-df-spinner');\n",
              "      quickchartButtonEl.classList.add('colab-df-quickchart-complete');\n",
              "    }\n",
              "    (() => {\n",
              "      let quickchartButtonEl =\n",
              "        document.querySelector('#df-ce11c89f-71a7-4b99-aaae-c1d3dbaf789a button');\n",
              "      quickchartButtonEl.style.display =\n",
              "        google.colab.kernel.accessAllowed ? 'block' : 'none';\n",
              "    })();\n",
              "  </script>\n",
              "</div>\n",
              "\n",
              "    </div>\n",
              "  </div>\n"
            ],
            "application/vnd.google.colaboratory.intrinsic+json": {
              "type": "dataframe",
              "variable_name": "train"
            }
          },
          "metadata": {},
          "execution_count": 43
        }
      ]
    },
    {
      "cell_type": "code",
      "source": [
        "train = np.array(train)"
      ],
      "metadata": {
        "id": "jKdFUvW7bLKu"
      },
      "execution_count": 44,
      "outputs": []
    },
    {
      "cell_type": "code",
      "source": [
        "np.random.shuffle(train)\n",
        "\n",
        "X_train = train[0:38000,1:]\n",
        "y_train = train[0:38000,0]\n",
        "X_test = train[38000:,1:]\n",
        "y_test = train[38000:,0]"
      ],
      "metadata": {
        "id": "Z_Lv2toRYGwY"
      },
      "execution_count": 45,
      "outputs": []
    },
    {
      "cell_type": "code",
      "source": [
        "X_train = X_train/255  # grayscaling the pixels\n",
        "X_test = X_test/255  # grayscaling the pixels"
      ],
      "metadata": {
        "id": "1URbifBVYJOX"
      },
      "execution_count": 46,
      "outputs": []
    },
    {
      "cell_type": "code",
      "source": [
        "W1, b1, W2, b2 = gradient_boost(X_train,y_train,X_test,y_test,250,0.1)"
      ],
      "metadata": {
        "colab": {
          "base_uri": "https://localhost:8080/",
          "height": 883
        },
        "id": "VkQs2NPEbuqR",
        "outputId": "7efcce70-9c2e-4caa-d371-611738da505a"
      },
      "execution_count": 57,
      "outputs": [
        {
          "output_type": "stream",
          "name": "stdout",
          "text": [
            "The number of iterations: 10 The training accuracy: 0.3445\n",
            "The number of iterations: 20 The training accuracy: 0.38973684210526316\n",
            "The number of iterations: 30 The training accuracy: 0.5029473684210526\n",
            "The number of iterations: 40 The training accuracy: 0.6022631578947368\n",
            "The number of iterations: 50 The training accuracy: 0.7083947368421053\n",
            "The number of iterations: 60 The training accuracy: 0.783\n",
            "The number of iterations: 70 The training accuracy: 0.8215\n",
            "The number of iterations: 80 The training accuracy: 0.8337631578947369\n",
            "The number of iterations: 90 The training accuracy: 0.8430526315789474\n",
            "The number of iterations: 100 The training accuracy: 0.8509473684210527\n",
            "The number of iterations: 110 The training accuracy: 0.858421052631579\n",
            "The number of iterations: 120 The training accuracy: 0.8633684210526316\n",
            "The number of iterations: 130 The training accuracy: 0.8681578947368421\n",
            "The number of iterations: 140 The training accuracy: 0.8720789473684211\n",
            "The number of iterations: 150 The training accuracy: 0.8749473684210526\n",
            "The number of iterations: 160 The training accuracy: 0.8775\n",
            "The number of iterations: 170 The training accuracy: 0.8804736842105263\n",
            "The number of iterations: 180 The training accuracy: 0.8821315789473684\n",
            "The number of iterations: 190 The training accuracy: 0.8844473684210526\n",
            "The number of iterations: 200 The training accuracy: 0.8862894736842105\n",
            "The number of iterations: 210 The training accuracy: 0.8877105263157895\n",
            "The number of iterations: 220 The training accuracy: 0.889421052631579\n",
            "The number of iterations: 230 The training accuracy: 0.8907368421052632\n",
            "The number of iterations: 240 The training accuracy: 0.8919736842105264\n",
            "The number of iterations: 250 The training accuracy: 0.8933947368421052\n"
          ]
        },
        {
          "output_type": "display_data",
          "data": {
            "text/plain": [
              "<Figure size 640x480 with 1 Axes>"
            ],
            "image/png": "[encoded data removed]"
          },
          "metadata": {}
        }
      ]
    },
    {
      "cell_type": "code",
      "source": [
        "show_prediction(X_test[0,np.newaxis],y_test[0], W1, b1, W2, b2)\n",
        "show_prediction(X_test[55,np.newaxis],y_test[55], W1, b1, W2, b2)\n",
        "show_prediction(X_test[99,np.newaxis],y_test[99], W1, b1, W2, b2)\n",
        "show_prediction(X_test[273,np.newaxis],y_test[273], W1, b1, W2, b2)\n"
      ],
      "metadata": {
        "id": "1UFeCENxecUm",
        "colab": {
          "base_uri": "https://localhost:8080/",
          "height": 1000
        },
        "outputId": "c3a4b3db-5dec-4530-9109-064500ec8516"
      },
      "execution_count": 60,
      "outputs": [
        {
          "output_type": "stream",
          "name": "stdout",
          "text": [
            "The actual label: 7\n",
            "The predicted label: [7]\n"
          ]
        },
        {
          "output_type": "display_data",
          "data": {
            "text/plain": [
              "<Figure size 640x480 with 1 Axes>"
            ],
            "image/png": "[encoded data removed]"
          },
          "metadata": {}
        },
        {
          "output_type": "stream",
          "name": "stdout",
          "text": [
            "The actual label: 9\n",
            "The predicted label: [8]\n"
          ]
        },
        {
          "output_type": "display_data",
          "data": {
            "text/plain": [
              "<Figure size 640x480 with 1 Axes>"
            ],
            "image/png": "[encoded data removed]"
          },
          "metadata": {}
        },
        {
          "output_type": "stream",
          "name": "stdout",
          "text": [
            "The actual label: 4\n",
            "The predicted label: [4]\n"
          ]
        },
        {
          "output_type": "display_data",
          "data": {
            "text/plain": [
              "<Figure size 640x480 with 1 Axes>"
            ],
            "image/png": "[encoded data removed]"
          },
          "metadata": {}
        },
        {
          "output_type": "stream",
          "name": "stdout",
          "text": [
            "The actual label: 1\n",
            "The predicted label: [1]\n"
          ]
        },
        {
          "output_type": "display_data",
          "data": {
            "text/plain": [
              "<Figure size 640x480 with 1 Axes>"
            ],
            "image/png": "[encoded data removed]"
          },
          "metadata": {}
        }
      ]
    },
    {
      "cell_type": "code",
      "source": [
        "def update_momentum_parameters(W1, b1, W2, b2, vW1, vb1, vW2, vb2, alpha):\n",
        "\n",
        "  W1 = W1 - alpha * vW1\n",
        "  b1 = b1 - alpha * vb1\n",
        "  W2 = W2 - alpha * vW2\n",
        "  b2 = b2 - alpha * vb2\n",
        "  return W1, b1, W2, b2\n",
        "\n",
        "def momentum_based_gradient_boost(X, y, X_test, y_test, iterations, alpha, beta):\n",
        "  accuracies = []\n",
        "  valid_accuracies = []\n",
        "  W1, b1, W2, b2 = initialize_parameters()\n",
        "  vW1 = np.zeros(W1.shape)\n",
        "  vb1 = np.zeros(b1.shape)\n",
        "  vW2 = np.zeros(W2.shape)\n",
        "  vb2 = np.zeros(b2.shape)\n",
        "\n",
        "\n",
        "  for i in range(iterations):\n",
        "    Z1, A1, Z2, A2 = forward_propogation(X, W1, b1, W2, b2)\n",
        "    dW1, db1, dW2, db2 = back_propogation(Z1, A1, Z2, A2, W2, X, y)\n",
        "    vW1 = beta * vW1 + (1 - beta) * dW1\n",
        "    vb1 = beta * vb1 + (1 - beta) * db1\n",
        "    vW2 = beta * vW2 + (1 - beta) * dW2\n",
        "    vb2 = beta * vb2 + (1 - beta) * db2\n",
        "    W1, b1, W2, b2 = update_momentum_parameters(W1, b1, W2, b2, vW1, vb1, vW2, vb2, alpha)\n",
        "    if (i+1)%10 == 0:\n",
        "      predictions = get_prediction(A2)\n",
        "      print(f'The number of iterations: {i+1} The training accuracy: {get_accuracy(predictions,y)}')\n",
        "      accuracies.append(get_accuracy(predictions,y))\n",
        "      valid_predictions = get_prediction(forward_propogation(X_test, W1, b1, W2, b2)[3])\n",
        "      valid_accuracies.append(get_accuracy(valid_predictions,y_test))\n",
        "  plot_accuracy(accuracies,valid_accuracies)\n",
        "  return W1, b1, W2, b2\n"
      ],
      "metadata": {
        "id": "8d0wNhIdhL-y"
      },
      "execution_count": 51,
      "outputs": []
    },
    {
      "cell_type": "code",
      "source": [
        "mW1, mb1, mW2, mb2 = momentum_based_gradient_boost(X_train, y_train, X_test, y_test, 250, 0.1, 0.9)"
      ],
      "metadata": {
        "colab": {
          "base_uri": "https://localhost:8080/",
          "height": 883
        },
        "id": "zrTX-7JPyrJf",
        "outputId": "1483e0af-8158-4156-8aa3-c3bcc5172382"
      },
      "execution_count": 58,
      "outputs": [
        {
          "output_type": "stream",
          "name": "stdout",
          "text": [
            "The number of iterations: 10 The training accuracy: 0.21789473684210525\n",
            "The number of iterations: 20 The training accuracy: 0.32776315789473687\n",
            "The number of iterations: 30 The training accuracy: 0.3780263157894737\n",
            "The number of iterations: 40 The training accuracy: 0.454\n",
            "The number of iterations: 50 The training accuracy: 0.5477631578947368\n",
            "The number of iterations: 60 The training accuracy: 0.6441578947368422\n",
            "The number of iterations: 70 The training accuracy: 0.7265789473684211\n",
            "The number of iterations: 80 The training accuracy: 0.7783684210526316\n",
            "The number of iterations: 90 The training accuracy: 0.8096315789473684\n",
            "The number of iterations: 100 The training accuracy: 0.8201578947368421\n",
            "The number of iterations: 110 The training accuracy: 0.8295526315789473\n",
            "The number of iterations: 120 The training accuracy: 0.8378684210526316\n",
            "The number of iterations: 130 The training accuracy: 0.846421052631579\n",
            "The number of iterations: 140 The training accuracy: 0.8522894736842105\n",
            "The number of iterations: 150 The training accuracy: 0.8572105263157894\n",
            "The number of iterations: 160 The training accuracy: 0.8629210526315789\n",
            "The number of iterations: 170 The training accuracy: 0.8675\n",
            "The number of iterations: 180 The training accuracy: 0.8709210526315789\n",
            "The number of iterations: 190 The training accuracy: 0.8739473684210526\n",
            "The number of iterations: 200 The training accuracy: 0.8766578947368421\n",
            "The number of iterations: 210 The training accuracy: 0.8793684210526316\n",
            "The number of iterations: 220 The training accuracy: 0.8814736842105263\n",
            "The number of iterations: 230 The training accuracy: 0.8833684210526316\n",
            "The number of iterations: 240 The training accuracy: 0.8847105263157895\n",
            "The number of iterations: 250 The training accuracy: 0.8873157894736842\n"
          ]
        },
        {
          "output_type": "display_data",
          "data": {
            "text/plain": [
              "<Figure size 640x480 with 1 Axes>"
            ],
            "image/png": "[encoded data removed]"
          },
          "metadata": {}
        }
      ]
    },
    {
      "cell_type": "code",
      "source": [
        "show_prediction(X_test[0,np.newaxis],y_test[0], mW1, mb1, mW2, mb2)\n",
        "show_prediction(X_test[55,np.newaxis],y_test[55], mW1, mb1, mW2, mb2)\n",
        "show_prediction(X_test[99,np.newaxis],y_test[99], mW1, mb1, mW2, mb2)\n",
        "show_prediction(X_test[273,np.newaxis],y_test[273], mW1, mb1, mW2, mb2)"
      ],
      "metadata": {
        "colab": {
          "base_uri": "https://localhost:8080/",
          "height": 1000
        },
        "id": "AV1V-cNbzDY6",
        "outputId": "6909f4bd-2c5a-48b1-a72c-d0917c5aa12a"
      },
      "execution_count": 59,
      "outputs": [
        {
          "output_type": "stream",
          "name": "stdout",
          "text": [
            "The actual label: 7\n",
            "The predicted label: [7]\n"
          ]
        },
        {
          "output_type": "display_data",
          "data": {
            "text/plain": [
              "<Figure size 640x480 with 1 Axes>"
            ],
            "image/png": "[encoded data removed]"
          },
          "metadata": {}
        },
        {
          "output_type": "stream",
          "name": "stdout",
          "text": [
            "The actual label: 9\n",
            "The predicted label: [8]\n"
          ]
        },
        {
          "output_type": "display_data",
          "data": {
            "text/plain": [
              "<Figure size 640x480 with 1 Axes>"
            ],
            "image/png": "[encoded data removed]"
          },
          "metadata": {}
        },
        {
          "output_type": "stream",
          "name": "stdout",
          "text": [
            "The actual label: 4\n",
            "The predicted label: [4]\n"
          ]
        },
        {
          "output_type": "display_data",
          "data": {
            "text/plain": [
              "<Figure size 640x480 with 1 Axes>"
            ],
            "image/png": "[encoded data removed]"
          },
          "metadata": {}
        },
        {
          "output_type": "stream",
          "name": "stdout",
          "text": [
            "The actual label: 1\n",
            "The predicted label: [1]\n"
          ]
        },
        {
          "output_type": "display_data",
          "data": {
            "text/plain": [
              "<Figure size 640x480 with 1 Axes>"
            ],
            "image/png": "[encoded data removed]"
          },
          "metadata": {}
        }
      ]
    },
    {
      "cell_type": "code",
      "source": [],
      "metadata": {
        "id": "zXgBE6m23UEu"
      },
      "execution_count": null,
      "outputs": []
    }
  ]
}